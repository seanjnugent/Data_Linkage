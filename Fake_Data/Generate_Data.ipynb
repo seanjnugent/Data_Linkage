{
 "cells": [
  {
   "cell_type": "code",
   "execution_count": 13,
   "metadata": {},
   "outputs": [
    {
     "name": "stdout",
     "output_type": "stream",
     "text": [
      "Fake data generated and exported to fake_data3.csv\n"
     ]
    }
   ],
   "source": [
    "# import the required modules\n",
    "import csv\n",
    "from faker import Faker\n",
    "\n",
    "# create a Faker instance\n",
    "fake = Faker()\n",
    "\n",
    "# define the number of rows and columns to generate\n",
    "num_rows = 5462\n",
    "num_cols = 7\n",
    "\n",
    "# define the column names and the Faker methods to use\n",
    "col_names = ['first_name', 'surname', 'dob', 'email', 'CHI Number', 'address']\n",
    "col_methods = [fake.first_name, fake.last_name, fake.date_of_birth, fake.email, fake.license_plate, fake.address, fake.phone_number]\n",
    "\n",
    "# create a list of lists to store the fake data\n",
    "data = []\n",
    "\n",
    "# add the column names as the first row\n",
    "data.append(col_names)\n",
    "\n",
    "# loop through the number of rows\n",
    "for i in range(num_rows):\n",
    "    # create an empty list to store the current row\n",
    "    row = []\n",
    "    # loop through the number of columns\n",
    "    for j in range(num_cols):\n",
    "        # call the Faker method for the current column and append the result to the row\n",
    "        row.append(col_methods[j]())   # Add parentheses to execute the method\n",
    "    # append the row to the data\n",
    "    data.append(row)\n",
    "\n",
    "# open a CSV file for writing\n",
    "with open('fake_data2.csv', 'w', newline='') as f:\n",
    "    # create a CSV writer object\n",
    "    writer = csv.writer(f)\n",
    "    # write the data to the CSV file\n",
    "    writer.writerows(data)\n",
    "\n",
    "# print a success message\n",
    "print('Fake data generated and exported to fake_data3.csv')\n"
   ]
  }
 ],
 "metadata": {
  "kernelspec": {
   "display_name": "Python 3",
   "language": "python",
   "name": "python3"
  },
  "language_info": {
   "codemirror_mode": {
    "name": "ipython",
    "version": 3
   },
   "file_extension": ".py",
   "mimetype": "text/x-python",
   "name": "python",
   "nbconvert_exporter": "python",
   "pygments_lexer": "ipython3",
   "version": "3.10.4"
  }
 },
 "nbformat": 4,
 "nbformat_minor": 2
}
