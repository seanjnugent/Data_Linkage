{
 "cells": [
  {
   "cell_type": "code",
   "execution_count": 2,
   "metadata": {},
   "outputs": [
    {
     "name": "stdout",
     "output_type": "stream",
     "text": [
      "+-------+----------+------------+--------------------+-----------------+----------+---------+----------+-----------+-------------+------+----------+\n",
      "|column1| unique_id|     cluster|           full_name|first_and_surname|first_name|  surname|       dob|birth_place|postcode_fake|gender|occupation|\n",
      "+-------+----------+------------+--------------------+-----------------+----------+---------+----------+-----------+-------------+------+----------+\n",
      "|      0|Q2296770-1|2296770.0000|thomas clifford, ...| thomas chudleigh|    thomas|chudleigh|1630-08-01|      devon|     tq13 8df|  male|politician|\n",
      "+-------+----------+------------+--------------------+-----------------+----------+---------+----------+-----------+-------------+------+----------+\n",
      "only showing top 1 row\n",
      "\n"
     ]
    }
   ],
   "source": [
    "from pyspark.sql import SparkSession\n",
    "\n",
    "sparkdriver = SparkSession.builder.master('local').appName('demoapp') \\\n",
    "    .config('spark.jars.packages', 'com.microsoft.sqlserver:mssql-jdbc:9.4.1.jre8') \\\n",
    "    .getOrCreate()\n",
    "\n",
    "df_mssql = sparkdriver.read.format('jdbc') \\\n",
    "    .option('url', 'jdbc:sqlserver://localhost:47777;databaseName=splink') \\\n",
    "    .option('driver', 'com.microsoft.sqlserver.jdbc.SQLServerDriver') \\\n",
    "    .option('user', 'datahubadmin') \\\n",
    "    .option('password', 'datahub') \\\n",
    "    .option('dbtable', 'dbo.inputfull') \\\n",
    "    .load()\n",
    "\n",
    "df_mssql.show(1)\n"
   ]
  }
 ],
 "metadata": {
  "kernelspec": {
   "display_name": "base",
   "language": "python",
   "name": "python3"
  },
  "language_info": {
   "codemirror_mode": {
    "name": "ipython",
    "version": 3
   },
   "file_extension": ".py",
   "mimetype": "text/x-python",
   "name": "python",
   "nbconvert_exporter": "python",
   "pygments_lexer": "ipython3",
   "version": "3.10.11"
  }
 },
 "nbformat": 4,
 "nbformat_minor": 2
}
