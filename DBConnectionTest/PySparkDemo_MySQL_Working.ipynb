{
 "cells": [
  {
   "cell_type": "code",
   "execution_count": 1,
   "metadata": {},
   "outputs": [
    {
     "name": "stdout",
     "output_type": "stream",
     "text": [
      "+---------+-------+---------+-----------------+----------+-------+----------+-----------+-------------+------+----------+\n",
      "|unique_id|cluster|full_name|first_and_surname|first_name|surname|       dob|birth_place|postcode_fake|gender|occupation|\n",
      "+---------+-------+---------+-----------------+----------+-------+----------+-----------+-------------+------+----------+\n",
      "|        1|   1.00|        1|                1|         1|      1|2021-01-01|          1|            1|     1|         1|\n",
      "+---------+-------+---------+-----------------+----------+-------+----------+-----------+-------------+------+----------+\n",
      "\n"
     ]
    }
   ],
   "source": [
    "from pyspark.sql import SparkSession\n",
    "sparkdriver = SparkSession.builder.master('local').appName('demoapp').\\\n",
    "config('spark.jars.packages','mysql:mysql-connector-java:8.0.17').\\\n",
    "getOrCreate()\n",
    "\n",
    "df_mysql = sparkdriver.read.format('jdbc').\\\n",
    "    option('url','jdbc:mysql://localhost:4306').\\\n",
    "    option('driver','com.mysql.jdbc.Driver').\\\n",
    "    option('user','datahubadmin').\\\n",
    "    option('password','datahub').\\\n",
    "    option('dbtable','splink.inputfull').\\\n",
    "    load()\n",
    "\n",
    "df_mysql.show(1)"
   ]
  }
 ],
 "metadata": {
  "kernelspec": {
   "display_name": "base",
   "language": "python",
   "name": "python3"
  },
  "language_info": {
   "codemirror_mode": {
    "name": "ipython",
    "version": 3
   },
   "file_extension": ".py",
   "mimetype": "text/x-python",
   "name": "python",
   "nbconvert_exporter": "python",
   "pygments_lexer": "ipython3",
   "version": "3.10.11"
  }
 },
 "nbformat": 4,
 "nbformat_minor": 2
}
